{
 "cells": [
  {
   "cell_type": "markdown",
   "id": "3b552609-e5c1-4dbf-9568-0b612a8de54e",
   "metadata": {},
   "source": [
    "Выбирая архитектуру модели я подумал, что вполне возможно encoder из transformers хорошо подойдет на обучении на point cloud так как self-attention инвариантен к перестановке данных(что является необходимым требованием для такого типа данных) в отличие от классических сверток. И поскольку я имел опыт обучения языковых моделей и transformers в частности я выбрал этот тип архитектуры. Так же поиск статей с подобной идеей подтвердил, что такой подход должен работать. После первых экспериментов я столкнулся с проблемой переобучения. Затем я добавил dropout, регуляризацию весов с AdamW и изменил функцию потерь на SmootCrossEntropy, а также учел дисбаланс классов(добавив веса для классов с маленьким количеством сэмплов). Также уменьшил сложность модели, уменьшив кол-во голов в self-attention и добавил аугментацию обучающих данных. После этого модель сработала достаточно хорошо на обоих тестовых выборках.(я несколько раз перепроверял, что не подаю реальные метки как ответы модели). Конечно есть небольшие просадки метрик у некоторых классов, однако я не думаю что нужно улучшать модель с такими показателями. Однако я ожидаю резкое падение качества на реальных данных, с чем уже можно бороться, например настроить аугментацию, чтобы она больше отражала проблемы реальных данных."
   ]
  },
  {
   "cell_type": "code",
   "execution_count": 1,
   "id": "31b25e29-738b-4275-a0fd-2ad5edf6b602",
   "metadata": {},
   "outputs": [
    {
     "name": "stdout",
     "output_type": "stream",
     "text": [
      "6it [00:02,  2.39it/s]\n",
      "Classification report for test set\n",
      "              precision    recall  f1-score   support\n",
      "\n",
      "        cone       1.00      0.98      0.99       100\n",
      "        cube       0.99      0.98      0.98       100\n",
      "    cylinder       0.97      0.99      0.98       100\n",
      "       plane       1.00      1.00      1.00       100\n",
      "       torus       1.00      1.00      1.00       100\n",
      "   uv_sphere       0.99      1.00      1.00       100\n",
      "\n",
      "    accuracy                           0.99       600\n",
      "   macro avg       0.99      0.99      0.99       600\n",
      "weighted avg       0.99      0.99      0.99       600\n",
      "\n",
      "3it [00:01,  1.55it/s]\n",
      "Classification report for valid set\n",
      "              precision    recall  f1-score   support\n",
      "\n",
      "        cone       1.00      1.00      1.00        50\n",
      "        cube       1.00      1.00      1.00        50\n",
      "    cylinder       1.00      1.00      1.00        50\n",
      "       plane       1.00      1.00      1.00        50\n",
      "       torus       1.00      1.00      1.00        50\n",
      "   uv_sphere       1.00      1.00      1.00        50\n",
      "\n",
      "    accuracy                           1.00       300\n",
      "   macro avg       1.00      1.00      1.00       300\n",
      "weighted avg       1.00      1.00      1.00       300\n",
      "\n"
     ]
    }
   ],
   "source": [
    "!python test.py"
   ]
  }
 ],
 "metadata": {
  "kernelspec": {
   "display_name": "Python 3",
   "language": "python",
   "name": "python3"
  },
  "language_info": {
   "codemirror_mode": {
    "name": "ipython",
    "version": 3
   },
   "file_extension": ".py",
   "mimetype": "text/x-python",
   "name": "python",
   "nbconvert_exporter": "python",
   "pygments_lexer": "ipython3",
   "version": "3.8.10"
  }
 },
 "nbformat": 4,
 "nbformat_minor": 5
}
