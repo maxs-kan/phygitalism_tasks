{
 "cells": [
  {
   "cell_type": "code",
   "execution_count": 1,
   "id": "31b25e29-738b-4275-a0fd-2ad5edf6b602",
   "metadata": {},
   "outputs": [
    {
     "name": "stdout",
     "output_type": "stream",
     "text": [
      "6it [00:02,  2.39it/s]\n",
      "Classification report for test set\n",
      "              precision    recall  f1-score   support\n",
      "\n",
      "        cone       1.00      0.98      0.99       100\n",
      "        cube       0.99      0.98      0.98       100\n",
      "    cylinder       0.97      0.99      0.98       100\n",
      "       plane       1.00      1.00      1.00       100\n",
      "       torus       1.00      1.00      1.00       100\n",
      "   uv_sphere       0.99      1.00      1.00       100\n",
      "\n",
      "    accuracy                           0.99       600\n",
      "   macro avg       0.99      0.99      0.99       600\n",
      "weighted avg       0.99      0.99      0.99       600\n",
      "\n",
      "3it [00:01,  1.55it/s]\n",
      "Classification report for valid set\n",
      "              precision    recall  f1-score   support\n",
      "\n",
      "        cone       1.00      1.00      1.00        50\n",
      "        cube       1.00      1.00      1.00        50\n",
      "    cylinder       1.00      1.00      1.00        50\n",
      "       plane       1.00      1.00      1.00        50\n",
      "       torus       1.00      1.00      1.00        50\n",
      "   uv_sphere       1.00      1.00      1.00        50\n",
      "\n",
      "    accuracy                           1.00       300\n",
      "   macro avg       1.00      1.00      1.00       300\n",
      "weighted avg       1.00      1.00      1.00       300\n",
      "\n"
     ]
    }
   ],
   "source": [
    "!python test.py"
   ]
  }
 ],
 "metadata": {
  "kernelspec": {
   "display_name": "Python 3",
   "language": "python",
   "name": "python3"
  },
  "language_info": {
   "codemirror_mode": {
    "name": "ipython",
    "version": 3
   },
   "file_extension": ".py",
   "mimetype": "text/x-python",
   "name": "python",
   "nbconvert_exporter": "python",
   "pygments_lexer": "ipython3",
   "version": "3.8.10"
  }
 },
 "nbformat": 4,
 "nbformat_minor": 5
}
