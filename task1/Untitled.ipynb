{
 "cells": [
  {
   "cell_type": "code",
   "execution_count": 1,
   "id": "2fd68226-9d40-4ee3-b366-62364abec59a",
   "metadata": {},
   "outputs": [],
   "source": [
    "import numpy as np \n",
    "import pandas as pd\n",
    "import torch"
   ]
  },
  {
   "cell_type": "markdown",
   "id": "ab629ac9-2c96-4952-964e-a2d6069d2cbd",
   "metadata": {},
   "source": [
    "$\\frac{dy}{dx1}=(\\frac{dp}{dg1}\\frac{dg1}{df1}\\dots) + (\\frac{dp}{dg2}\\frac{dg2}{df1} \\dots)$\n",
    "\n",
    "So we just use torch autograd and provide missing part for computational graph by .backward(gradient=outGrad)"
   ]
  },
  {
   "cell_type": "code",
   "execution_count": 2,
   "id": "ce182487-e54c-46dc-ac8e-1d83dd722fca",
   "metadata": {},
   "outputs": [],
   "source": [
    "data = pd.read_json('./dev.json')\n",
    "X = torch.tensor(data[['x1', 'x2']].to_numpy(), requires_grad=True)\n",
    "outGrad = torch.tensor(data[['dpdg1', 'dpdg2']].to_numpy(), requires_grad=False)\n",
    "f1 = X[:, 0] + X[:, 1]\n",
    "f2 = X[:, 0] * X[:, 1]\n",
    "g1 = torch.tan(f1 + f2 + 100)\n",
    "g2 = f1 * f2\n",
    "G = torch.stack((g1, g2), dim=1)\n",
    "G.backward(gradient=outGrad)\n",
    "out = pd.DataFrame(X.grad.numpy(), \n",
    "                   columns=['dx1', 'dx2'])\n",
    "out.insert(0, \"id\", data['id'])\n",
    "out.to_csv('result.csv', index=False, compression=None)  "
   ]
  },
  {
   "cell_type": "code",
   "execution_count": 3,
   "id": "2ec0e28d-f605-4541-a70e-ea473d8c4e39",
   "metadata": {},
   "outputs": [
    {
     "data": {
      "text/html": [
       "<div>\n",
       "<style scoped>\n",
       "    .dataframe tbody tr th:only-of-type {\n",
       "        vertical-align: middle;\n",
       "    }\n",
       "\n",
       "    .dataframe tbody tr th {\n",
       "        vertical-align: top;\n",
       "    }\n",
       "\n",
       "    .dataframe thead th {\n",
       "        text-align: right;\n",
       "    }\n",
       "</style>\n",
       "<table border=\"1\" class=\"dataframe\">\n",
       "  <thead>\n",
       "    <tr style=\"text-align: right;\">\n",
       "      <th></th>\n",
       "      <th>id</th>\n",
       "      <th>dx1</th>\n",
       "      <th>dx2</th>\n",
       "    </tr>\n",
       "  </thead>\n",
       "  <tbody>\n",
       "    <tr>\n",
       "      <th>0</th>\n",
       "      <td>1</td>\n",
       "      <td>1.560253</td>\n",
       "      <td>2.009294</td>\n",
       "    </tr>\n",
       "    <tr>\n",
       "      <th>1</th>\n",
       "      <td>2</td>\n",
       "      <td>4.967455</td>\n",
       "      <td>3.052826</td>\n",
       "    </tr>\n",
       "    <tr>\n",
       "      <th>2</th>\n",
       "      <td>3</td>\n",
       "      <td>1397.612049</td>\n",
       "      <td>1626.470010</td>\n",
       "    </tr>\n",
       "    <tr>\n",
       "      <th>3</th>\n",
       "      <td>4</td>\n",
       "      <td>59.701294</td>\n",
       "      <td>46.437681</td>\n",
       "    </tr>\n",
       "    <tr>\n",
       "      <th>4</th>\n",
       "      <td>5</td>\n",
       "      <td>91.287692</td>\n",
       "      <td>85.268100</td>\n",
       "    </tr>\n",
       "  </tbody>\n",
       "</table>\n",
       "</div>"
      ],
      "text/plain": [
       "   id          dx1          dx2\n",
       "0   1     1.560253     2.009294\n",
       "1   2     4.967455     3.052826\n",
       "2   3  1397.612049  1626.470010\n",
       "3   4    59.701294    46.437681\n",
       "4   5    91.287692    85.268100"
      ]
     },
     "execution_count": 3,
     "metadata": {},
     "output_type": "execute_result"
    }
   ],
   "source": [
    "out = pd.read_csv('./result.csv')\n",
    "out.head()"
   ]
  },
  {
   "cell_type": "code",
   "execution_count": null,
   "id": "b275fb11-cf94-45de-97ba-939926f0b7fd",
   "metadata": {},
   "outputs": [],
   "source": []
  }
 ],
 "metadata": {
  "kernelspec": {
   "display_name": "Python 3",
   "language": "python",
   "name": "python3"
  },
  "language_info": {
   "codemirror_mode": {
    "name": "ipython",
    "version": 3
   },
   "file_extension": ".py",
   "mimetype": "text/x-python",
   "name": "python",
   "nbconvert_exporter": "python",
   "pygments_lexer": "ipython3",
   "version": "3.8.10"
  }
 },
 "nbformat": 4,
 "nbformat_minor": 5
}
