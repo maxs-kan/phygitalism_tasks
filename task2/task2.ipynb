{
 "cells": [
  {
   "cell_type": "code",
   "execution_count": 1,
   "id": "4f5b652d-0588-4164-ba3b-e984b9c22468",
   "metadata": {},
   "outputs": [],
   "source": [
    "import numpy as np"
   ]
  },
  {
   "cell_type": "markdown",
   "id": "954f19b2-ed68-439c-a7be-8b427bd373c2",
   "metadata": {},
   "source": [
    "Initially I think about decompose matrix by spectral(eigendecomposition) to the matrix of eigenvectors and diagonal matrix of eigenvalues. But unfortunately, this matrix is not diagonalizable. So I try to use fact that it is triangular. let $D = diag(A)$\n",
    "\n",
    "$B = (A - D)$\n",
    "\n",
    "and $B$ is nilpotent, for any $n$-dimensional nilpotent matrix $B^k=0$, $\\forall k : k \\geq r $ and $r \\leq n$\n",
    "\n",
    "And for this case $k=3$:"
   ]
  },
  {
   "cell_type": "code",
   "execution_count": 19,
   "id": "25c52f69-522d-42fe-8bd3-4d0abaf4747f",
   "metadata": {},
   "outputs": [
    {
     "name": "stdout",
     "output_type": "stream",
     "text": [
      "Power 2\n",
      "[[ 0.  0.  0.]\n",
      " [ 0.  0.  0.]\n",
      " [-1.  0.  0.]]\n",
      "Power 3\n",
      "[[0. 0. 0.]\n",
      " [0. 0. 0.]\n",
      " [0. 0. 0.]]\n"
     ]
    }
   ],
   "source": [
    "A = np.array([[1., 0., 0.], [1., 1., 0.], [0., -1., 1000.]], dtype=np.float64)\n",
    "B = A - np.diag(A.diagonal())\n",
    "print('Power 2')\n",
    "print(B@B)\n",
    "print('Power 3')\n",
    "print(B@B@B)"
   ]
  },
  {
   "cell_type": "markdown",
   "id": "0c348165-43b2-42fd-855f-345e61be3470",
   "metadata": {},
   "source": [
    "And the idea is that I can raise $D$ to the power $n$ efficiently since it is diagonal, and I can get power element-wise:\n",
    "$A^n=(D + B)^n=D^n + C_1^nD^nB +C_2^nD^{n-1}B^2 + 0 \\dots$\n",
    "\n",
    "\n",
    "But then I realize that for this formula it is necessary to DB=BD, which is false for this case:(\n",
    "\n",
    "This leads to the fact that the nilpotent property completely loses its helpful in terms of the efficiency of calculations, for example, for degree 4:\n",
    "\n",
    "$(D+B)^4 = D^4 + D^3B + D^2BD +D^2B^2 + DBD^2 + DBDB + DB^2D + DB^3 + BD^3 + BD^2B + BDBD + BDB^2 + B^2D^2 + B^2DB + B^3D + B^4 $\n",
    "\n",
    "And in this sum it is possible to nullify only 3 elements out of 16.\n",
    "\n",
    "I could no come up with a way to effectively raise this matrix to a power, so I just used Numpy:"
   ]
  },
  {
   "cell_type": "code",
   "execution_count": 67,
   "id": "8fd68002-93d4-480e-890b-7a090cf182b9",
   "metadata": {},
   "outputs": [],
   "source": [
    "def matrix_to_power(n):\n",
    "    if n < 103:\n",
    "        return np.linalg.matrix_power(A, n)\n",
    "    else:\n",
    "        print('Too big power')\n",
    "        return None"
   ]
  },
  {
   "cell_type": "code",
   "execution_count": 70,
   "id": "a69a5736-e536-4927-83af-7e16384e0f54",
   "metadata": {},
   "outputs": [
    {
     "name": "stdout",
     "output_type": "stream",
     "text": [
      "[[ 1.000000e+000  0.000000e+000  0.000000e+000]\n",
      " [ 5.000000e+001  1.000000e+000  0.000000e+000]\n",
      " [-1.002003e+144 -1.001001e+147  1.000000e+150]]\n"
     ]
    }
   ],
   "source": [
    "print(matrix_to_power(50))"
   ]
  },
  {
   "cell_type": "code",
   "execution_count": 69,
   "id": "ef1f1f0d-b810-4b76-bb05-dfa52f6ea3a0",
   "metadata": {},
   "outputs": [
    {
     "name": "stdout",
     "output_type": "stream",
     "text": [
      "Too big power\n",
      "None\n"
     ]
    }
   ],
   "source": [
    "print(matrix_to_power(103))"
   ]
  }
 ],
 "metadata": {
  "kernelspec": {
   "display_name": "Python 3",
   "language": "python",
   "name": "python3"
  },
  "language_info": {
   "codemirror_mode": {
    "name": "ipython",
    "version": 3
   },
   "file_extension": ".py",
   "mimetype": "text/x-python",
   "name": "python",
   "nbconvert_exporter": "python",
   "pygments_lexer": "ipython3",
   "version": "3.8.10"
  }
 },
 "nbformat": 4,
 "nbformat_minor": 5
}
